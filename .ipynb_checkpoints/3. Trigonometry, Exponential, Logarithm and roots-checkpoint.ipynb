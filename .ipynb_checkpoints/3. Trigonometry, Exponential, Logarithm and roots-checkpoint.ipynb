{
 "metadata": {
  "name": "",
  "signature": "sha256:0aab73c549fe6a4245339028e9b8c713a77a983b36c0abc6bc1eb2e82a94cf51"
 },
 "nbformat": 3,
 "nbformat_minor": 0,
 "worksheets": []
}