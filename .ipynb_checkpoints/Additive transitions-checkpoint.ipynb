{
 "metadata": {
  "name": "",
  "signature": "sha256:230c15e469cc93b0bd7e8642e6b235937b4050a8cd72cd02361f6b2d33de963c"
 },
 "nbformat": 3,
 "nbformat_minor": 0,
 "worksheets": [
  {
   "cells": [
    {
     "cell_type": "code",
     "collapsed": false,
     "input": [
      "%matplotlib inline \n",
      "from domain_colourings import hsv1,rgb1,rgbLog,rgbReal\n",
      "from plot_apparatus import ComplexPlot\n",
      "from polynomials import Polynomial\n",
      "import numpy as np\n",
      "from numpy.random import random\n",
      "import functions as fn\n",
      "\n",
      "# Create a plotting object defaults to hsv\n",
      "cPlot = ComplexPlot(hsv1)"
     ],
     "language": "python",
     "metadata": {},
     "outputs": [],
     "prompt_number": 1
    },
    {
     "cell_type": "code",
     "collapsed": false,
     "input": [],
     "language": "python",
     "metadata": {},
     "outputs": []
    }
   ],
   "metadata": {}
  }
 ]
}